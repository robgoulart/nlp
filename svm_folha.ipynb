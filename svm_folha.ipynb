{
 "cells": [
  {
   "cell_type": "code",
   "execution_count": 58,
   "metadata": {},
   "outputs": [],
   "source": [
    "import pandas as pd\n",
    "import numpy as np\n",
    "from collections import defaultdict\n",
    "\n",
    "from nltk.tokenize import word_tokenize\n",
    "from nltk.stem import WordNetLemmatizer\n",
    "from nltk.corpus import wordnet as wn\n",
    "from nltk import pos_tag\n",
    "from nltk.corpus import stopwords\n",
    "\n",
    "from sklearn.preprocessing import LabelEncoder\n",
    "from sklearn.feature_extraction.text import TfidfVectorizer\n",
    "from sklearn import model_selection, svm\n",
    "from sklearn.metrics import accuracy_score\n",
    "\n",
    "import seaborn as sns"
   ]
  },
  {
   "cell_type": "code",
   "execution_count": 59,
   "metadata": {},
   "outputs": [],
   "source": [
    "np.random.seed(500)"
   ]
  },
  {
   "cell_type": "code",
   "execution_count": 60,
   "metadata": {},
   "outputs": [
    {
     "data": {
      "text/html": [
       "<div>\n",
       "<style scoped>\n",
       "    .dataframe tbody tr th:only-of-type {\n",
       "        vertical-align: middle;\n",
       "    }\n",
       "\n",
       "    .dataframe tbody tr th {\n",
       "        vertical-align: top;\n",
       "    }\n",
       "\n",
       "    .dataframe thead th {\n",
       "        text-align: right;\n",
       "    }\n",
       "</style>\n",
       "<table border=\"1\" class=\"dataframe\">\n",
       "  <thead>\n",
       "    <tr style=\"text-align: right;\">\n",
       "      <th></th>\n",
       "      <th>data</th>\n",
       "      <th>titulo</th>\n",
       "      <th>url</th>\n",
       "      <th>conteudo</th>\n",
       "      <th>categoria</th>\n",
       "    </tr>\n",
       "  </thead>\n",
       "  <tbody>\n",
       "    <tr>\n",
       "      <th>0</th>\n",
       "      <td>2020-09-01</td>\n",
       "      <td>Após saída de Deltan, Aras articula encurtar d...</td>\n",
       "      <td>https://www1.folha.uol.com.br/poder/2020/09/ap...</td>\n",
       "      <td>Após a saída do procurador Deltan Dallagnol da...</td>\n",
       "      <td>Lava Jato</td>\n",
       "    </tr>\n",
       "    <tr>\n",
       "      <th>1</th>\n",
       "      <td>2020-09-02</td>\n",
       "      <td>STJ decide manter Witzel afastado por 6 meses ...</td>\n",
       "      <td>https://www1.folha.uol.com.br/poder/2020/09/st...</td>\n",
       "      <td>O STJ (Superior Tribunal de Justiça) decidiu n...</td>\n",
       "      <td>Casos corrupcao</td>\n",
       "    </tr>\n",
       "    <tr>\n",
       "      <th>2</th>\n",
       "      <td>2020-09-03</td>\n",
       "      <td>Escolha de vice e elo com Doria desafiam Bruno...</td>\n",
       "      <td>https://www1.folha.uol.com.br/poder/2020/09/es...</td>\n",
       "      <td>A poucos dias de o PSDB confirmar a candidatur...</td>\n",
       "      <td>Eleicoes</td>\n",
       "    </tr>\n",
       "    <tr>\n",
       "      <th>3</th>\n",
       "      <td>2020-09-03</td>\n",
       "      <td>Sob resistências, Bolsonaro pretende indicar m...</td>\n",
       "      <td>https://www1.folha.uol.com.br/poder/2020/09/so...</td>\n",
       "      <td>Com a decisão do ministro José Múcio Monteiro ...</td>\n",
       "      <td>Politica Nacional</td>\n",
       "    </tr>\n",
       "    <tr>\n",
       "      <th>4</th>\n",
       "      <td>2020-09-03</td>\n",
       "      <td>STF não vê clima para salvar Witzel, mas avali...</td>\n",
       "      <td>https://www1.folha.uol.com.br/poder/2020/09/st...</td>\n",
       "      <td>A avaliação da maioria dos ministros do STF (S...</td>\n",
       "      <td>Casos corrupcao</td>\n",
       "    </tr>\n",
       "  </tbody>\n",
       "</table>\n",
       "</div>"
      ],
      "text/plain": [
       "         data                                             titulo  \\\n",
       "0  2020-09-01  Após saída de Deltan, Aras articula encurtar d...   \n",
       "1  2020-09-02  STJ decide manter Witzel afastado por 6 meses ...   \n",
       "2  2020-09-03  Escolha de vice e elo com Doria desafiam Bruno...   \n",
       "3  2020-09-03  Sob resistências, Bolsonaro pretende indicar m...   \n",
       "4  2020-09-03  STF não vê clima para salvar Witzel, mas avali...   \n",
       "\n",
       "                                                 url  \\\n",
       "0  https://www1.folha.uol.com.br/poder/2020/09/ap...   \n",
       "1  https://www1.folha.uol.com.br/poder/2020/09/st...   \n",
       "2  https://www1.folha.uol.com.br/poder/2020/09/es...   \n",
       "3  https://www1.folha.uol.com.br/poder/2020/09/so...   \n",
       "4  https://www1.folha.uol.com.br/poder/2020/09/st...   \n",
       "\n",
       "                                            conteudo          categoria  \n",
       "0  Após a saída do procurador Deltan Dallagnol da...          Lava Jato  \n",
       "1  O STJ (Superior Tribunal de Justiça) decidiu n...    Casos corrupcao  \n",
       "2  A poucos dias de o PSDB confirmar a candidatur...           Eleicoes  \n",
       "3  Com a decisão do ministro José Múcio Monteiro ...  Politica Nacional  \n",
       "4  A avaliação da maioria dos ministros do STF (S...    Casos corrupcao  "
      ]
     },
     "execution_count": 60,
     "metadata": {},
     "output_type": "execute_result"
    }
   ],
   "source": [
    "dados=pd.read_csv(r\"/home/roberto/Área de trabalho/NLP/dados/folha_app_ronda.csv\",encoding='utf-8')\n",
    "dados.head()"
   ]
  },
  {
   "cell_type": "code",
   "execution_count": 61,
   "metadata": {},
   "outputs": [],
   "source": [
    "# Step - b : Change all the text to lower case. This is required as python interprets 'dog' and 'DOG' differently\n",
    "dados['titulo'] = [entry.lower() for entry in dados['titulo']]\n",
    "# Step - c : Tokenization : In this each entry in the corpus will be broken into set of words\n",
    "dados['tokens']= [word_tokenize(entry) for entry in dados['titulo']]\n",
    "tag_map = defaultdict(lambda : wn.NOUN)\n",
    "tag_map['J'] = wn.ADJ\n",
    "tag_map['V'] = wn.VERB\n",
    "tag_map['R'] = wn.ADV\n",
    "for index,entry in enumerate(dados['tokens']):\n",
    "    # Declaring Empty List to store the words that follow the rules for this step\n",
    "    Final_words = []\n",
    "    # Initializing WordNetLemmatizer()\n",
    "    word_Lemmatized = WordNetLemmatizer()\n",
    "    # pos_tag function below will provide the 'tag' i.e if the word is Noun(N) or Verb(V) or something else.\n",
    "    for word, tag in pos_tag(entry):\n",
    "        # Below condition is to check for Stop words and consider only alphabets\n",
    "        if word not in stopwords.words('portuguese') and word.isalpha():\n",
    "            word_Final = word_Lemmatized.lemmatize(word,tag_map[tag[0]])\n",
    "            Final_words.append(word_Final)\n",
    "    # The final processed set of words for each iteration will be stored in 'text_final'\n",
    "    dados.loc[index,'tokens_final'] = str(Final_words)"
   ]
  },
  {
   "cell_type": "code",
   "execution_count": 62,
   "metadata": {},
   "outputs": [
    {
     "name": "stdout",
     "output_type": "stream",
     "text": [
      "70     ['medidas', 'kalil', 'pandemia', 'viram', 'alv...\n",
      "63     ['autoridades', 'ignoram', 'pandemia', 'fazem'...\n",
      "56     ['bolsonaro', 'recorre', 'contra', 'decisão', ...\n",
      "102    ['supremo', 'resiste', 'jorge', 'oliveira', 'b...\n",
      "81     ['afastar', 'aplicação', 'direito', 'internet'...\n",
      "                             ...                        \n",
      "126    ['fux', 'marca', 'presença', 'celso', 'julgame...\n",
      "98     ['direita', 'conservadora', 'mira', 'capitais'...\n",
      "16     ['fhc', 'faz', 'meaculpa', 'afirma', 'emenda',...\n",
      "74     ['decisões', 'stf', 'últimos', 'ano', 'tomada'...\n",
      "82     ['votos', 'assembleia', 'rio', 'autoriza', 'pr...\n",
      "Name: tokens_final, Length: 95, dtype: object\n",
      "[1 1 3 6 2 6 1 1 5 1 1 6 1 1 2 0 6 1 4 6 2 1 1 7 6 1 0 1 1 6 4 1 0 1 3 6 1\n",
      " 7 4 2 1 1]\n"
     ]
    }
   ],
   "source": [
    "dados['categoria']=dados['categoria'].astype('str')\n",
    "Train_X, Test_X, Train_Y, Test_Y = model_selection.train_test_split(dados['tokens_final'],dados['categoria'],test_size=0.3,random_state=13)\n",
    "\n",
    "Encoder = LabelEncoder()\n",
    "Train_Y = Encoder.fit_transform(Train_Y)\n",
    "Test_Y = Encoder.fit_transform(Test_Y)\n",
    "print(Train_X)\n",
    "print(Test_Y)\n",
    "Tfidf_vect = TfidfVectorizer(max_features=5000)\n",
    "fit=Tfidf_vect.fit(dados['tokens_final'])\n",
    "Train_X_Tfidf = Tfidf_vect.transform(Train_X)\n",
    "Test_X_Tfidf = Tfidf_vect.transform(Test_X)"
   ]
  },
  {
   "cell_type": "code",
   "execution_count": 63,
   "metadata": {},
   "outputs": [],
   "source": [
    "#fit.get_feature_names()\n",
    "#print(Tfidf_vect.vocabulary_)"
   ]
  },
  {
   "cell_type": "code",
   "execution_count": 64,
   "metadata": {},
   "outputs": [],
   "source": [
    "#print(Test_X_Tfidf)"
   ]
  },
  {
   "cell_type": "code",
   "execution_count": 65,
   "metadata": {},
   "outputs": [
    {
     "name": "stdout",
     "output_type": "stream",
     "text": [
      "Linha 2 foi classificada como  0 mas devia ser  3\n",
      "Linha 4 foi classificada como  1 mas devia ser  2\n",
      "Linha 8 foi classificada como  1 mas devia ser  5\n",
      "Linha 16 foi classificada como  1 mas devia ser  6\n",
      "Linha 18 foi classificada como  1 mas devia ser  4\n",
      "Linha 19 foi classificada como  1 mas devia ser  6\n",
      "Linha 20 foi classificada como  3 mas devia ser  2\n",
      "Linha 21 foi classificada como  6 mas devia ser  1\n",
      "Linha 23 foi classificada como  0 mas devia ser  7\n",
      "Linha 24 foi classificada como  1 mas devia ser  6\n",
      "Linha 26 foi classificada como  1 mas devia ser  0\n",
      "Linha 29 foi classificada como  1 mas devia ser  6\n",
      "Linha 30 foi classificada como  1 mas devia ser  4\n",
      "Linha 35 foi classificada como  1 mas devia ser  6\n",
      "Linha 37 foi classificada como  1 mas devia ser  7\n",
      "Linha 38 foi classificada como  1 mas devia ser  4\n"
     ]
    }
   ],
   "source": [
    "SVM = svm.SVC(C=10, kernel='linear', degree=3, gamma='auto')\n",
    "SVM.fit(Train_X_Tfidf,Train_Y)\n",
    "predictions_SVM = SVM.predict(Test_X_Tfidf)\n",
    "#print(\"Predictions -> \",predictions_SVM)\n",
    "#previsoes=pd.DataFrame(data={'titulo':Test_X,'categoria_prevista':Encoder.inverse_transform(predictions_SVM), 'categoria_original':Encoder.inverse_transform(Test_Y)})\n",
    "#previsoes.to_csv('previsoes.csv')\n",
    "for row_index, (input, prediction, label) in enumerate(zip (Test_X, predictions_SVM, Test_Y)):\n",
    "  if prediction != label:\n",
    "    print('Linha', row_index, 'foi classificada como ', prediction, 'mas devia ser ', label)"
   ]
  },
  {
   "cell_type": "code",
   "execution_count": 66,
   "metadata": {},
   "outputs": [
    {
     "name": "stdout",
     "output_type": "stream",
     "text": [
      "SVM Accuracy Score ->  61.904761904761905\n"
     ]
    }
   ],
   "source": [
    "print(\"SVM Accuracy Score -> \",accuracy_score(predictions_SVM, Test_Y)*100)"
   ]
  }
 ],
 "metadata": {
  "kernelspec": {
   "display_name": "Python 3",
   "language": "python",
   "name": "python3"
  },
  "language_info": {
   "codemirror_mode": {
    "name": "ipython",
    "version": 3
   },
   "file_extension": ".py",
   "mimetype": "text/x-python",
   "name": "python",
   "nbconvert_exporter": "python",
   "pygments_lexer": "ipython3",
   "version": "3.7.9"
  }
 },
 "nbformat": 4,
 "nbformat_minor": 4
}
