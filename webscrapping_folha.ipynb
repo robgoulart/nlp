{
 "cells": [
  {
   "cell_type": "code",
   "execution_count": 7,
   "metadata": {},
   "outputs": [],
   "source": [
    "import requests\n",
    "from bs4 import BeautifulSoup\n",
    "import re"
   ]
  },
  {
   "cell_type": "code",
   "execution_count": 21,
   "metadata": {},
   "outputs": [
    {
     "name": "stderr",
     "output_type": "stream",
     "text": [
      "Some characters could not be decoded, and were replaced with REPLACEMENT CHARACTER.\n",
      "Some characters could not be decoded, and were replaced with REPLACEMENT CHARACTER.\n"
     ]
    },
    {
     "name": "stdout",
     "output_type": "stream",
     "text": [
      "<re.Match object; span=(13701, 30119), match='Aumentar fonte Matheus Teixeira Marcelo Rocha Jul>\n",
      "<re.Match object; span=(13701, 18808), match='Aumentar fonte Matheus Teixeira Marcelo Rocha Jul>\n",
      "None\n",
      "Rio de Janeiro\n"
     ]
    }
   ],
   "source": [
    "url='https://www1.folha.uol.com.br/poder/'\n",
    "\n",
    "#extraindo o link da reportagem na pg principal\n",
    "pg=requests.get(url)\n",
    "html=BeautifulSoup(pg.content, 'html.parser')\n",
    "main_headline=html.find('a', attrs={'class': 'c-main-headline__url'})\n",
    "url_manchete=main_headline['href']                                   #=============== VAR BANCO DE DADOS\n",
    "\n",
    "#acessando o link extraído da pagina principal\n",
    "pg=requests.get(url_manchete)\n",
    "html=BeautifulSoup(pg.content, 'html.parser')\n",
    "#print(html.text)\n",
    "\n",
    "#retirando o título e data\n",
    "titulo=html.find('h1', attrs={'class': 'c-content-head__title'}).text #=============== VAR BANCO DE DADOS\n",
    "data=re.search(\"[0-9]{2}[/][0-9]{2}[/][0-9]{4}\", html.text)           #=============== VAR BANCO DE DADOS\n",
    "\n",
    "#para retirar autores e corpo da reportagem, necessário setar limites e \n",
    "# padronizar espaços e quebras de linha\n",
    "lim_ini=\"Aumentar fonte\"\n",
    "lim_fim=\"compartilhamento Especial\"\n",
    "conteudo=re.sub(\"\\s+\", \" \", html.text)\n",
    "conteudo=re.sub(\"\\n+\", \" \", conteudo)\n",
    "\n",
    "#identificando a cidade\n",
    "cidades=['Brasília', 'Rio de Janeiro', 'São Paulo']\n",
    "cidade=\"Nenhuma\"\n",
    "for cid in cidades:\n",
    "    find=re.search(\"%s.+%s\" % (lim_ini, cid), conteudo)\n",
    "    print(find)\n",
    "    if find!=None:\n",
    "        cidade=cid\n",
    "print(cidade)\n",
    "#retirando o corpo principal da reportagem \n",
    "find=re.search(\"%s.+%s\" % (lim_ini, lim_fim), conteudo)\n",
    "if find!=None:\n",
    "    #retirando os limites\n",
    "    conteudo=find.group()\n",
    "    conteudo=re.sub(lim_ini, \"\", conteudo)\n",
    "    conteudo=re.sub(lim_fim, \"\", conteudo)\n",
    "    #print(conteudo)\n",
    "\n",
    "#separando o autor do corpo principal da reportagem"
   ]
  },
  {
   "cell_type": "code",
   "execution_count": null,
   "metadata": {},
   "outputs": [],
   "source": []
  }
 ],
 "metadata": {
  "kernelspec": {
   "display_name": "Python 3",
   "language": "python",
   "name": "python3"
  },
  "language_info": {
   "codemirror_mode": {
    "name": "ipython",
    "version": 3
   },
   "file_extension": ".py",
   "mimetype": "text/x-python",
   "name": "python",
   "nbconvert_exporter": "python",
   "pygments_lexer": "ipython3",
   "version": "3.7.6"
  }
 },
 "nbformat": 4,
 "nbformat_minor": 4
}
