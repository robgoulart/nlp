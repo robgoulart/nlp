{
 "cells": [
  {
   "cell_type": "code",
   "execution_count": 1,
   "metadata": {},
   "outputs": [],
   "source": [
    "import requests\n",
    "from bs4 import BeautifulSoup\n",
    "import re\n",
    "import pandas as pd"
   ]
  },
  {
   "cell_type": "code",
   "execution_count": 2,
   "metadata": {},
   "outputs": [
    {
     "name": "stderr",
     "output_type": "stream",
     "text": [
      "Some characters could not be decoded, and were replaced with REPLACEMENT CHARACTER.\n"
     ]
    },
    {
     "name": "stdout",
     "output_type": "stream",
     "text": [
      "Salvando nova manchete https://www1.folha.uol.com.br/poder/2020/09/atuacao-de-covas-na-pandemia-e-aprovada-por-37-e-reprovada-por-24-segundo-datafolha.shtml\n",
      "Salvando nova manchete https://www1.folha.uol.com.br/poder/2020/09/impeachment-e-puramente-politico-e-terceiro-turno-da-eleicao-diz-governador-de-sc.shtml\n",
      "Salvando nova manchete https://www1.folha.uol.com.br/poder/2020/09/bolsonaro-diz-que-pode-entrar-em-eleicao-para-influenciar-em-sao-paulo-santos-e-manaus.shtml\n",
      "Salvando nova manchete https://www1.folha.uol.com.br/poder/2020/09/ao-menos-21-mil-candidatos-mudaram-declaracao-de-cor-para-eleicao-de-2020.shtml\n"
     ]
    }
   ],
   "source": [
    "url='https://www1.folha.uol.com.br/poder/'\n",
    "\n",
    "#extraindo o link da manchete principal\n",
    "pg=requests.get(url)\n",
    "html=BeautifulSoup(pg.content, 'html.parser')\n",
    "main_headline=html.find('a', attrs={'class': 'c-main-headline__url'})\n",
    "url_manchete=main_headline['href']                                   #=============== VAR BANCO DE DADOS\n",
    "\n",
    "#extraindo os demais links\n",
    "urls = html.find_all('a', {'class': 'c-headline__url'})\n",
    "manchetes=[]\n",
    "for link in urls:\n",
    "    if link['href']!='https://www1.folha.uol.com.br/especial/2019/cafe-da-manha/':\n",
    "        manchetes.append(link['href'])\n",
    "manchetes.append(url_manchete)\n",
    "\n",
    "#acessando o link extraído da pagina principal\n",
    "for url in manchetes:\n",
    "    pg=requests.get(url)\n",
    "    html=BeautifulSoup(pg.content, 'html5lib')\n",
    "\n",
    "    #retirando título e data\n",
    "    titulo=re.sub(\"[0-9]{2}[/][0-9]{2}[/][0-9]{4}\", \"\", html.find('title').text)\n",
    "    titulo=re.sub(\" - Poder - Folha\", \"\", titulo)\n",
    "    titulo=re.sub(\"-\", \"\", titulo.strip())\n",
    "    data=re.search(\"[0-9]{2}[/][0-9]{2}[/][0-9]{4}\", html.find('title').text).group()\n",
    "\n",
    "    #retirando conteudo\n",
    "    div=html.find('div', attrs={'class': 'c-news__body'})\n",
    "    paragrafos=div.findChildren(\"p\" , recursive=False)\n",
    "    conteudo=\"\"\n",
    "    for p in paragrafos:\n",
    "        conteudo+=p.text\n",
    "    \n",
    "    arquivo_bd=('reportagens_folha.csv')\n",
    "    bd=pd.read_csv(arquivo_bd)\n",
    "    \n",
    "    if (url in list(bd['url']))==False:\n",
    "        novo=pd.DataFrame(data={'data':str(data), 'titulo':str(titulo), 'url': str(url), 'conteudo':str(conteudo)}, index=[0])\n",
    "        bd=bd.append(novo, ignore_index=True)\n",
    "        #salvando de volta o csv atualizado\n",
    "        print(\"Salvando nova manchete %s\"  % url)\n",
    "        bd.to_csv(arquivo_bd, index=False)\n",
    "    else:\n",
    "        print(\"Manchete já salva: %s\" % url)\n"
   ]
  },
  {
   "cell_type": "code",
   "execution_count": 3,
   "metadata": {},
   "outputs": [],
   "source": [
    "    #salvando no csv\n",
    "    #primeiro lê o csv já gravado para identificar se a manchete atual já foi gravada\n",
    "\n"
   ]
  },
  {
   "cell_type": "code",
   "execution_count": null,
   "metadata": {},
   "outputs": [],
   "source": []
  }
 ],
 "metadata": {
  "kernelspec": {
   "display_name": "Python 3",
   "language": "python",
   "name": "python3"
  },
  "language_info": {
   "codemirror_mode": {
    "name": "ipython",
    "version": 3
   },
   "file_extension": ".py",
   "mimetype": "text/x-python",
   "name": "python",
   "nbconvert_exporter": "python",
   "pygments_lexer": "ipython3",
   "version": "3.7.6"
  }
 },
 "nbformat": 4,
 "nbformat_minor": 4
}
